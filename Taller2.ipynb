{
  "nbformat": 4,
  "nbformat_minor": 0,
  "metadata": {
    "colab": {
      "provenance": []
    },
    "kernelspec": {
      "name": "python3",
      "display_name": "Python 3"
    },
    "language_info": {
      "name": "python"
    }
  },
  "cells": [
    {
      "cell_type": "markdown",
      "source": [
        "###Taller"
      ],
      "metadata": {
        "id": "1RO2c77WipAl"
      }
    },
    {
      "cell_type": "markdown",
      "source": [
        "Nicole Stefanie Caro Rodriguez\n",
        "Daniel Alfonso Lopez Sierra"
      ],
      "metadata": {
        "id": "OO7M7hADGr2D"
      }
    },
    {
      "cell_type": "markdown",
      "source": [
        "1. Define dos variables, nombre y edad, e imprime un mensaje de saludo que las utilice.\n"
      ],
      "metadata": {
        "id": "g15BMGOljhWK"
      }
    },
    {
      "cell_type": "code",
      "source": [
        "a = \"Daniel\" # se asigna el nombre a la A\n",
        "b= \"22\" # se asigna el año a B\n",
        "print(\"Hola soy\",a,\"tengo\", b, \"años\") #usamos print para que muestre el mensaje completo cos el nombre y la edad"
      ],
      "metadata": {
        "id": "3maA6ej1i5kX",
        "colab": {
          "base_uri": "https://localhost:8080/"
        },
        "outputId": "2707f0bc-48f5-44cb-ef51-dfd04b792be7"
      },
      "execution_count": 19,
      "outputs": [
        {
          "output_type": "stream",
          "name": "stdout",
          "text": [
            "Hola soy Daniel tengo 22 años\n"
          ]
        }
      ]
    },
    {
      "cell_type": "markdown",
      "source": [
        "2. Calcula y muestra el área de un círculo. Pide al usuario que ingrese el radio.\n",
        "\n"
      ],
      "metadata": {
        "id": "8mCzvoPKloqM"
      }
    },
    {
      "cell_type": "code",
      "source": [
        "radio = float(input(\"Ingresa el radio del círculo: \"))#colocamos el mensaje para que pueda ingresar el valor\n",
        "area = 3.14159 * radio ** 2 # esta es la operacion para sacar el radio\n",
        "\n",
        "print(\"El área del círculo con radio\", radio, \"es:\", area) # Mostramos el radio del circulo"
      ],
      "metadata": {
        "colab": {
          "base_uri": "https://localhost:8080/"
        },
        "id": "M27myBD4nNvV",
        "outputId": "f7f0e582-c209-459f-cc7e-6115060f692f"
      },
      "execution_count": 20,
      "outputs": [
        {
          "output_type": "stream",
          "name": "stdout",
          "text": [
            "Ingresa el radio del círculo: 2\n",
            "El área del círculo con radio 2.0 es: 12.56636\n"
          ]
        }
      ]
    },
    {
      "cell_type": "markdown",
      "source": [
        "3. Escribe una función calcular_promedio que tome una lista de números como argumento y devuelva su promedio"
      ],
      "metadata": {
        "id": "VA-km6dZnvw2"
      }
    },
    {
      "cell_type": "code",
      "source": [
        "lista = [5, 10, 15, 20, 300] # creamos la lista de nuemro\n",
        "def promedio(lista): # definimos la funcion llamada promedio\n",
        "    n = 0 # con esto llevamos la cuenta de la cantidad de numeros en la lista\n",
        "    suma = 0 # sumamos los numeros de la lista\n",
        "    for numero in lista: #hacemos un bucle para pasar por cada numero\n",
        "        n += 1 #incrementamos 1 para contar los numeros\n",
        "        suma += numero # el valor del numero lo agregamos a la suma\n",
        "    division = suma / n # con la division obtenemos el promedio\n",
        "    return division, n\n",
        "\n",
        "resultado = promedio(lista)[0]\n",
        "print(\"El promedio es:\", resultado) # mostramos el resultado"
      ],
      "metadata": {
        "colab": {
          "base_uri": "https://localhost:8080/"
        },
        "id": "JqcmpKp0sHki",
        "outputId": "8e79a5c6-d769-4d74-d193-c07341d1e9c2"
      },
      "execution_count": 21,
      "outputs": [
        {
          "output_type": "stream",
          "name": "stdout",
          "text": [
            "El promedio es: 70.0\n"
          ]
        }
      ]
    },
    {
      "cell_type": "markdown",
      "source": [
        "**4**. Crea una lista de números y utiliza un bucle for para mostrar los números mayores que 10."
      ],
      "metadata": {
        "id": "SRtVyqZkt2u-"
      }
    },
    {
      "cell_type": "code",
      "source": [
        "numeros = [5, 12, 8, 15, 3, 18, 9, 20, 40, 9, 100]# creamos la lista\n",
        "for numero in numeros: #usamos FOR para que busque en todos los numeros de la lista\n",
        "    if numero > 10: # #ponemos la condicion que los numeros sean mayor a 10\n",
        "        print(numero) #mostramos los resultados"
      ],
      "metadata": {
        "id": "vPwl8Poct7gG",
        "colab": {
          "base_uri": "https://localhost:8080/"
        },
        "outputId": "2c48d2f4-9507-40bb-92bf-b67d59f81966"
      },
      "execution_count": 23,
      "outputs": [
        {
          "output_type": "stream",
          "name": "stdout",
          "text": [
            "12\n",
            "15\n",
            "18\n",
            "20\n",
            "40\n",
            "100\n"
          ]
        }
      ]
    },
    {
      "cell_type": "markdown",
      "source": [
        "5.Define un diccionario que almacene los precios de tres productos diferentes. Pide al usuario que ingrese el nombre de un producto y muestra su precio.\n",
        "\n"
      ],
      "metadata": {
        "id": "Rob64KtKt7_G"
      }
    },
    {
      "cell_type": "code",
      "source": [
        "precios_productos = {\"helado\": 5000, \"papitas\": 4000,\"hamburguesa\": 10000} #creamos el diccionario\n",
        "\n",
        "producto = input(\"Ingresa el nombre de un producto: \") #colocamos un mesaje para que puedan meter el nombre del producto\n",
        "\n",
        "if producto in precios_productos:\n",
        "    precio = precios_productos[producto]\n",
        "    print(f\"El precio es: {precio}\")\n",
        "else :\n",
        "    print(\"el producto no esta en la lista\") # mensaje si colocan un nombre que no esta en la lista"
      ],
      "metadata": {
        "colab": {
          "base_uri": "https://localhost:8080/"
        },
        "id": "9qv7lpyTt-BN",
        "outputId": "9601f582-52bd-477f-bc85-a15eaa190bfd"
      },
      "execution_count": 24,
      "outputs": [
        {
          "output_type": "stream",
          "name": "stdout",
          "text": [
            "Ingresa el nombre de un producto: helado\n",
            "El precio es: 5000\n"
          ]
        }
      ]
    },
    {
      "cell_type": "markdown",
      "source": [
        "6.Escribe una función es_primo que determine si un número dado es primo o no.\n",
        "\n"
      ],
      "metadata": {
        "id": "H80A_1dKvoEg"
      }
    },
    {
      "cell_type": "code",
      "source": [
        "def es_primo(n):                  #define la funcion es_primo para cualquier numero\n",
        "  for i in range(2,n):            #tomar el rango de 2 hasta n\n",
        "    if (n%i) == 0:                #condicional si el numero es divisible por cualquier otro numero\n",
        "      return False                #False si no es primo\n",
        "  return True                     #True si es primo"
      ],
      "metadata": {
        "id": "RT_HGqT_vrBf"
      },
      "execution_count": null,
      "outputs": []
    },
    {
      "cell_type": "markdown",
      "source": [
        "7. Crea una lista de nombres y utiliza un bucle while para imprimir cada nombre hasta que encuentres el nombre \"Alex\".*texto en cursiva*"
      ],
      "metadata": {
        "id": "SPqd0nhfvvtv"
      }
    },
    {
      "cell_type": "code",
      "source": [
        "nombres = [\"nicole\",\"daniel\",\"sofia\",\"daniel\",\"Alex\",\"nicole\",\"daniel\",\"sofia\",\"daniel\"] # creamos la lista de nombres\n",
        "indice = 0 # nombramos la variable 0 la usamos para acceder a los elementos\n",
        "while indice < len(nombres): # iniciamos un bucle mientras mientras el valor de la variable indice sea menor que la longitud en la lista que creamos\n",
        "    nombre_actual = nombres[indice] # asignamos el nombre de la variable\n",
        "    print(nombre_actual) # mostramos el nombre de las lista\n",
        "\n",
        "    if nombre_actual == \"Alex\": # se hace para verificar si el nombre actual es Alex\n",
        "        print(\"Se encontro a Alex.\") #muestra el mesaje\n",
        "        break # rompemos el bucle\n",
        "    indice +=1 # lo usamos para que pase por cada nombre de la lista\n",
        "\n"
      ],
      "metadata": {
        "colab": {
          "base_uri": "https://localhost:8080/"
        },
        "id": "sB0KHUngv0Rg",
        "outputId": "bafe2b2c-e634-44cc-8dc2-6b7699edcb6f"
      },
      "execution_count": 26,
      "outputs": [
        {
          "output_type": "stream",
          "name": "stdout",
          "text": [
            "nicole\n",
            "daniel\n",
            "sofia\n",
            "daniel\n",
            "Alex\n",
            "Se encontro a Alex.\n"
          ]
        }
      ]
    },
    {
      "cell_type": "markdown",
      "source": [
        "8.Escribe una función invertir_cadena que tome una cadena como argumento y devuelva la cadena invertida."
      ],
      "metadata": {
        "id": "ZlYyG6lPz3g8"
      }
    },
    {
      "cell_type": "code",
      "source": [
        "def invertir_cadena(cadena):             #definir la funcion de invertir_cadena junto con el argumento cadena\n",
        "    cadena_invertida = cadena[::-1]      #usar un slicing para que la cadena vaya desde el final hasta el principio\n",
        "    return cadena_invertida\n",
        "\n",
        "cadena_1 = \"amor a Roma\"                         #hacer la frase inicial\n",
        "cadena_invertida = invertir_cadena(cadena_1)     #usar la función invertir_cadena\n",
        "print(\"Cadena Inicial:\", cadena_1)               #Hacer la impresión de la frase inicial\n",
        "print(\"Cadena Invertida:\", cadena_invertida)     #Hacer la impresión de la frase invertida\n"
      ],
      "metadata": {
        "id": "sd1redt-z6FN",
        "colab": {
          "base_uri": "https://localhost:8080/"
        },
        "outputId": "3488f2c5-0d49-480c-c0f6-f13a9cabff34"
      },
      "execution_count": 1,
      "outputs": [
        {
          "output_type": "stream",
          "name": "stdout",
          "text": [
            "Cadena Inicial: amor a Roma\n",
            "Cadena Invertida: amoR a roma\n"
          ]
        }
      ]
    },
    {
      "cell_type": "markdown",
      "source": [
        "9.Crea una lista de números pares del 2 al 20 utilizando una comprensión de lista."
      ],
      "metadata": {
        "id": "MU0yTkVu0IuM"
      }
    },
    {
      "cell_type": "code",
      "source": [
        "numeros_pares = [i for i in range (2,21)   #i for i es la comprensión de la lista\n",
        "if i % 2 == 0]                             #es para condicionar que la lista solo tome los numeros pares entre el rango\n",
        "\n",
        "print (numeros_pares)                      #Imprimir la lista de los numeros pares entre el rango de 2 a 20"
      ],
      "metadata": {
        "id": "lNr7cWtZ0Lzs",
        "colab": {
          "base_uri": "https://localhost:8080/"
        },
        "outputId": "8c04fc76-0708-4a05-e8e7-2deb9817e4a5"
      },
      "execution_count": 2,
      "outputs": [
        {
          "output_type": "stream",
          "name": "stdout",
          "text": [
            "[2, 4, 6, 8, 10, 12, 14, 16, 18, 20]\n"
          ]
        }
      ]
    },
    {
      "cell_type": "markdown",
      "source": [
        "10.Escribe un programa que genere los primeros N términos de la serie de Fibonacci a discresión del usuario."
      ],
      "metadata": {
        "id": "arzHwirf0MdU"
      }
    },
    {
      "cell_type": "code",
      "source": [
        "def fibonacci(n):  # Usamos la funcion\n",
        "    fib_sequence = [0, 1]  # Creamos una lista con los números 0 y 1, que son los primeros de la serie\n",
        "\n",
        "    for i in range(2, n):  # Creamos un bucle empezando desde 2 hasta n-1.\n",
        "        next_term = fib_sequence[i - 1] + fib_sequence[i - 2]  # Calculamos el siguiente número sumando los dos anteriores\n",
        "        fib_sequence.append(next_term)  # Añadimos ese nuevo número a la lista.\n",
        "\n",
        "    return fib_sequence  # Devolvemos la lista completa de números de la serie\n",
        "\n",
        "def main():  # Aquí definimos otra función llamada \"main\"\n",
        "    try:  # intentamos hacer algo\n",
        "        n = int(input(\"Ingrese la cantidad de términos de la serie de Fibonacci : \"))  # pedimos un numero\n",
        "        if n <= 0:  # Si el número es menor o igual a cero, decimos que no es válido.\n",
        "            print(\"Ingrese un número válido mayor que cero.\")\n",
        "        else:  # Si el número es correcto hacemos :\n",
        "            result = fibonacci(n)  # Usamos la función \"fibonacci\" para obtener los números de la serie.\n",
        "            print(f\"Los primeros {n} términos de la serie de Fibonacci son:\")  # Mostramos el mensaje\n",
        "            print(result)  # Mostramos la lista de números de la serie de Fibonacci.\n",
        "    except ValueError:  # Si el usuario escribe algo que no es un número arrojamos otro mensaje\n",
        "        print(\"Ingrese un número válido.\")\n",
        "if __name__ == \"__main__\":\n",
        "    main()\n"
      ],
      "metadata": {
        "id": "WIQr6GPx0PQN",
        "colab": {
          "base_uri": "https://localhost:8080/"
        },
        "outputId": "655e8c2e-39e0-48db-fc16-ec09bb3e218b"
      },
      "execution_count": 34,
      "outputs": [
        {
          "output_type": "stream",
          "name": "stdout",
          "text": [
            "Ingrese la cantidad de términos de la serie de Fibonacci : 4\n",
            "Los primeros 4 términos de la serie de Fibonacci son:\n",
            "[0, 1, 1, 2]\n"
          ]
        }
      ]
    },
    {
      "cell_type": "markdown",
      "source": [
        "11.Escribe una función calcular_interes_simple que calcule el interés simple dado el principal, la tasa de interés y el tiempo en años.\n",
        "\n"
      ],
      "metadata": {
        "id": "g4i2MsBmgl9I"
      }
    },
    {
      "cell_type": "code",
      "source": [
        "def calcular_interes_simple(principal, tasa_interes, tiempo): # definimos la funcio\n",
        "\n",
        "    interes = (principal * tasa_interes * tiempo) / 100 # formula para el interes simple\n",
        "    return interes\n",
        "\n",
        "principal = 1000000  # monto inicial\n",
        "tasa_interes = 14  # interes\n",
        "tiempo = 2        # años\n",
        "\n",
        "interes = calcular_interes_simple(principal, tasa_interes, tiempo)# calculamos la formula\n",
        "print(f\"El interés simple es: {interes}\")#mostramos la respuesta"
      ],
      "metadata": {
        "colab": {
          "base_uri": "https://localhost:8080/"
        },
        "id": "VIgc_cRcgp0f",
        "outputId": "fab883df-d0d7-4c36-df72-5b460e83e587"
      },
      "execution_count": 48,
      "outputs": [
        {
          "output_type": "stream",
          "name": "stdout",
          "text": [
            "El interés simple es: 280000.0\n"
          ]
        }
      ]
    },
    {
      "cell_type": "markdown",
      "source": [
        "12.Crea una lista de precios de acciones. Utiliza una función para calcular el promedio de esos precios."
      ],
      "metadata": {
        "id": "1YTeLnhrgqTO"
      }
    },
    {
      "cell_type": "code",
      "source": [
        "def calcular_promedio_precios(precios):# calcula el promedio de la lista\n",
        "    total = sum(precios) # sumamos los valores de la lista\n",
        "    promedio = total / len(precios)\n",
        "    return promedio\n",
        "precios_acciones = [100000, 20000, 5000, 47000] # creamos la lista de precios\n",
        "promedio_precios = calcular_promedio_precios(precios_acciones)# calculamos los precios usando la funcion\n",
        "\n",
        "print(\"Lista de precios de acciones:\", precios_acciones) #mostramos la lista\n",
        "print(f\"El promedio de precios de acciones es: {promedio_precios:.2f}\") # mostramos el promedio"
      ],
      "metadata": {
        "colab": {
          "base_uri": "https://localhost:8080/"
        },
        "id": "L3Pv2hz5gtSu",
        "outputId": "cf784c47-c377-4340-eb58-dca745edbfdc"
      },
      "execution_count": 54,
      "outputs": [
        {
          "output_type": "stream",
          "name": "stdout",
          "text": [
            "Lista de precios de acciones: [100000, 20000, 5000, 47000]\n",
            "El promedio de precios de acciones es: 43000.00\n"
          ]
        }
      ]
    },
    {
      "cell_type": "markdown",
      "source": [
        "13.Escribe una función convertir_dolares_a_euros que tome una cantidad en dólares y la convierta a euros (usando una tasa de cambio fija)."
      ],
      "metadata": {
        "id": "3FhHpsglguAd"
      }
    },
    {
      "cell_type": "code",
      "source": [
        "def convertir_dolares_a_euros(cantidad_dolares, tasa_cambio): # usamos la funcion\n",
        "    cantidad_euros = cantidad_dolares * tasa_cambio # hacemos la formula para que se multipliquen\n",
        "    return cantidad_euros\n",
        "tasa_cambio_actual = 0.92 # definimos la tasa de cambio\n",
        "cantidad_dolares = float(input(\"Ingrese la cantidad en dólares: \"))# muestre un mensaje\n",
        "\n",
        "cantidad_euros = convertir_dolares_a_euros(cantidad_dolares, tasa_cambio_actual)\n",
        "print(f\"{cantidad_dolares} dólares son equivalentes a {cantidad_euros:.2f} euros.\")# muestre el mensaje del cambio"
      ],
      "metadata": {
        "colab": {
          "base_uri": "https://localhost:8080/"
        },
        "id": "0dZ1O9UpgzLF",
        "outputId": "5bfa2684-913b-48fc-9c49-d430d64c46dd"
      },
      "execution_count": 55,
      "outputs": [
        {
          "output_type": "stream",
          "name": "stdout",
          "text": [
            "Ingrese la cantidad en dólares: 10\n",
            "10.0 dólares son equivalentes a 9.20 euros.\n"
          ]
        }
      ]
    },
    {
      "cell_type": "markdown",
      "source": [
        "14.Crea una función calcular_factorial que calcule el factorial de un número dado."
      ],
      "metadata": {
        "id": "0uJevmyqg1Ym"
      }
    },
    {
      "cell_type": "code",
      "source": [
        "def calcular_factorial(n): # definimos la funcion\n",
        "    if n == 0: # Si el valor de n es 0\n",
        "        return 1 # la función devuelve directamente 1, ya que el factorial de 0 es 1.\n",
        "    else: # de lo contrario\n",
        "        factorial = 1\n",
        "        for i in range(1, n + 1):#entramos a un bucle que por el numero se multiplique por el mismo numero\n",
        "            factorial *= i\n",
        "        return factorial\n",
        "\n",
        "numero = int(input(\"Ingrese un número para calcular su factorial: \"))# mostramos un mesaje\n",
        "factorial_resultado = calcular_factorial(numero)# llamamos a la funcion\n",
        "print(f\"El factorial de {numero} es {factorial_resultado}\") # mostramos el valor"
      ],
      "metadata": {
        "colab": {
          "base_uri": "https://localhost:8080/"
        },
        "id": "UYIlXydbg3Lq",
        "outputId": "ae8e562a-719b-4842-ae23-7c9c4064aee7"
      },
      "execution_count": 56,
      "outputs": [
        {
          "output_type": "stream",
          "name": "stdout",
          "text": [
            "Ingrese un número para calcular su factorial: 5\n",
            "El factorial de 5 es 120\n"
          ]
        }
      ]
    },
    {
      "cell_type": "markdown",
      "source": [
        "15.Define un diccionario que contenga los nombres y saldos de cuentas bancarias. Escribe una función que encuentre la cuenta con el saldo más alto."
      ],
      "metadata": {
        "id": "Thv6Ykqdg3sr"
      }
    },
    {
      "cell_type": "code",
      "source": [
        "def encontrar_cuenta_mas_alta(cuentas): #asignamos la funcion\n",
        "    cuenta_mas_alta = None # esto asegura que cualquier valor en el diccionario será mayor que este valor inicial\n",
        "    saldo_mas_alto = float(\"-inf\")  # Inicializar con un valor negativo infinito\n",
        "\n",
        "    for cuenta, saldo in cuentas.items(): # creamos un bucle\n",
        "    # Si el saldo actual es mayor, actualiza saldo_mas_alto con ese saldo y actualiza cuenta_mas_alta con la cuenta\n",
        "        if saldo > saldo_mas_alto:\n",
        "            saldo_mas_alto = saldo\n",
        "            cuenta_mas_alta = cuenta\n",
        "\n",
        "    return cuenta_mas_alta, saldo_mas_alto\n",
        "\n",
        "# Diccionario de cuentas bancarias\n",
        "cuentas_bancarias = {\n",
        "    \"nicole\": 500000,\n",
        "    \"sofia\": 300000,\n",
        "    \"daniel\": 2000000,\n",
        "    \"Alex\": 100000}\n",
        "\n",
        "# Encontrar la cuenta con el saldo más alto usando la función\n",
        "cuenta_mas_alta, saldo_mas_alto = encontrar_cuenta_mas_alta(cuentas_bancarias)\n",
        "\n",
        "print(\"Cuentas bancarias:\")# mostramos las cuentas\n",
        "for cuenta, saldo in cuentas_bancarias.items():\n",
        "    print(f\"{cuenta}: ${saldo:.2f}\")\n",
        "\n",
        "print(f\"la persona {cuenta_mas_alta} tiene mas dinero ${saldo_mas_alto:.2f}\")#mostramos el valor de la cuenta mas alta"
      ],
      "metadata": {
        "colab": {
          "base_uri": "https://localhost:8080/"
        },
        "id": "K0L_MKTag6Eq",
        "outputId": "ece92590-7bbf-4a31-954e-e0795f94b501"
      },
      "execution_count": null,
      "outputs": [
        {
          "output_type": "stream",
          "name": "stdout",
          "text": [
            "Cuentas bancarias:\n",
            "nicole: $500000.00\n",
            "sofia: $300000.00\n",
            "daniel: $2000000.00\n",
            "Alex: $100000.00\n",
            "la persona daniel tiene mas dinero $2000000.00\n"
          ]
        }
      ]
    },
    {
      "cell_type": "markdown",
      "source": [
        "17.Crea una función calcular_descuento que calcule el precio final después de aplicar un descuento a un artículo."
      ],
      "metadata": {
        "id": "Ou81YFhVlqW0"
      }
    },
    {
      "cell_type": "code",
      "source": [
        "def calcular_descuento(precio_original, descuento_porcentaje): # definimos la funcion\n",
        "    descuento = (precio_original * descuento_porcentaje) / 100 # calculamos el valor del descuento aplicado\n",
        "    precio_final = precio_original - descuento # calculamos el precio final\n",
        "    return precio_final# cuando se realice el calculo regresa al precio final\n",
        "\n",
        "precio_original = float(input(\"Ingrese el precio original del artículo: \"))#mostramos mensaje del precio inicial del articulo\n",
        "descuento_porcentaje = float(input(\"Ingrese el porcentaje de descuento (%): \"))#mostramos mensaje del descuento y con FLOAT convertimos el valor en decimal\n",
        "\n",
        "precio_final = calcular_descuento(precio_original, descuento_porcentaje)# realizamos el calculo final\n",
        "print(f\"El precio final después del descuento es: {precio_final:.2f}\")# mostramos el descuento+"
      ],
      "metadata": {
        "colab": {
          "base_uri": "https://localhost:8080/"
        },
        "id": "E3i1onAflt_u",
        "outputId": "3c6890bb-4c5d-49e9-c930-8fe711066036"
      },
      "execution_count": 57,
      "outputs": [
        {
          "output_type": "stream",
          "name": "stdout",
          "text": [
            "Ingrese el precio original del artículo: 10000\n",
            "Ingrese el porcentaje de descuento (%): 50\n",
            "El precio final después del descuento es: 5000.00\n"
          ]
        }
      ]
    },
    {
      "cell_type": "markdown",
      "source": [
        "18.Escribe una función que tome una lista de números y devuelva una nueva lista con solo los números pares."
      ],
      "metadata": {
        "id": "yvGY4_zZludI"
      }
    },
    {
      "cell_type": "code",
      "source": [
        "def obtener_numeros_pares(lista):# definimos la funcion\n",
        "    numeros_pares = []# creamos una lista vacia\n",
        "    for numero in lista: # empezamos un bucle\n",
        "        if numero % 2 == 0:# verificamos si el numero actual en el bucle es par\n",
        "            numeros_pares.append(numero)# si el numero es par se agrega a la lista\n",
        "    return numeros_pares#regresamos a la lista de numero pares\n",
        "\n",
        "numeros = [1, 2, 3, 4, 5, 6, 7, 8, 9, 10, 11, 12, 13, 14, 15, 16, 17, 18, 19, 20]# creamos la lista\n",
        "numeros_pares = obtener_numeros_pares(numeros)#Esto calculará y almacenará los números pares en la lista\n",
        "print(\"Números originales:\", numeros)# mostramos la lista\n",
        "print(\"Números pares:\", numeros_pares)#mostramos los numeros pares"
      ],
      "metadata": {
        "colab": {
          "base_uri": "https://localhost:8080/"
        },
        "id": "6bKOSGG_lxJ-",
        "outputId": "d4484529-7cf8-4d74-a9ec-d79ec23bb8ed"
      },
      "execution_count": null,
      "outputs": [
        {
          "output_type": "stream",
          "name": "stdout",
          "text": [
            "Números originales: [1, 2, 3, 4, 5, 6, 7, 8, 9, 10, 11, 12, 13, 14, 15, 16, 17, 18, 19, 20]\n",
            "Números pares: [2, 4, 6, 8, 10, 12, 14, 16, 18, 20]\n"
          ]
        }
      ]
    },
    {
      "cell_type": "markdown",
      "source": [
        "19.Crea una lista de números y utiliza una función para encontrar el número más grande y el más pequeño."
      ],
      "metadata": {
        "id": "pTK3kXWnlxuR"
      }
    },
    {
      "cell_type": "code",
      "source": [
        "def encontrar_numero_mas_grande(lista):\n",
        "    mas_grande = max(lista) # encontramos el valor mas alto\n",
        "    return mas_grande\n",
        "\n",
        "def encontrar_numero_mas_pequeno(lista):\n",
        "    mas_pequeno = min(lista) # para encontrar el valor mas pequeño\n",
        "    return mas_pequeno\n",
        "\n",
        "# creamos lista\n",
        "numeros = [1, 2, 3, 4, 5, 6, 7, 8, 9, 10, 11, 12, 13, 14, 15, 16, 17, 18, 19, 500000]\n",
        "\n",
        "# Utilizar las funciones para encontrar el número más grande y el más pequeño\n",
        "numero_mas_grande = encontrar_numero_mas_grande(numeros)\n",
        "numero_mas_pequeno = encontrar_numero_mas_pequeno(numeros)\n",
        "\n",
        "print(\"Lista de números:\", numeros)# mostramos la lista de numeros\n",
        "print(\"El número más grande es:\", numero_mas_grande)#mostramos el numero grande\n",
        "print(\"El número más pequeño es:\", numero_mas_pequeno)#mostramos el numero pequeño"
      ],
      "metadata": {
        "colab": {
          "base_uri": "https://localhost:8080/"
        },
        "id": "Sji2owBXYhSy",
        "outputId": "30aaab42-e863-4c7b-94c7-d82de9698c85"
      },
      "execution_count": null,
      "outputs": [
        {
          "output_type": "stream",
          "name": "stdout",
          "text": [
            "Lista de números: [1, 2, 3, 4, 5, 6, 7, 8, 9, 10, 11, 12, 13, 14, 15, 16, 17, 18, 19, 20, 500000]\n",
            "El número más grande es: 500000\n",
            "El número más pequeño es: 1\n"
          ]
        }
      ]
    },
    {
      "cell_type": "markdown",
      "source": [
        "21.Crea una función calcular_amortizacion que calcule la amortización de un préstamo a lo largo del tiempo."
      ],
      "metadata": {
        "id": "8M71AcRiWlZu"
      }
    },
    {
      "cell_type": "code",
      "source": [
        "def calcular_amortizacion(monto, tasa_interes_anual, plazo):\n",
        "\n",
        "    tasa_interes_mensual = tasa_interes_anual / 12 / 100                                         #Plantear la conversion de la tasa anual a mensual\n",
        "    cuota_mensual = (monto * tasa_interes_mensual) / (1 - (1 + tasa_interes_mensual)**(-plazo))  #Plantear el calculo de cada cuota mensual\n",
        "\n",
        "    tabla_amortizacion = []\n",
        "    saldo_final = monto\n",
        "\n",
        "    for mes in range(1, plazo + 1):                                             #crear el bucle para que vaya sumando +1 al plazo anterior y las demas condiciones\n",
        "        interes_mensual = saldo_final * tasa_interes_mensual                    #calcular el interes entre el saldo final y la tasa fijada\n",
        "        abono_pagado = cuota_mensual - interes_mensual                          #los abonos son la resta entre la cuota fijada de cada mes menos el interes mensual\n",
        "        saldo_final -= abono_pagado\n",
        "        tabla_amortizacion.append((mes, cuota_mensual, interes_mensual, abono_pagado, saldo_final)) #agregar a la lista lo que se requiere en la tabla de amortizacion\n",
        "\n",
        "    return tabla_amortizacion                                            #dar el valor de la tabla de amortizacion\n",
        "\n",
        "monto = 10000\n",
        "tasa_interes_anual = 5\n",
        "plazo = 6\n",
        "\n",
        "tabla = calcular_amortizacion(monto, tasa_interes_anual, plazo)          #dar las opciones que deben salir en la tabla\n",
        "for mes, cuota, interes, capital, saldo in tabla:                        #hacer el bucle para cada opcion teniendo en cuenta el plazo\n",
        "    print(f\"Mes {mes}| Cuota: {cuota} | Interés: {interes} | Capital Pagado: {capital} | Saldo Final: {saldo}\")"
      ],
      "metadata": {
        "colab": {
          "base_uri": "https://localhost:8080/"
        },
        "id": "72BDOxB7Wn-B",
        "outputId": "b4555557-38f7-4b12-e3ae-28e63aa563ec"
      },
      "execution_count": 58,
      "outputs": [
        {
          "output_type": "stream",
          "name": "stdout",
          "text": [
            "Mes 1| Cuota: 1691.0564402798896 | Interés: 41.666666666666664 | Capital Pagado: 1649.3897736132228 | Saldo Final: 8350.610226386778\n",
            "Mes 2| Cuota: 1691.0564402798896 | Interés: 34.794209276611575 | Capital Pagado: 1656.262231003278 | Saldo Final: 6694.347995383499\n",
            "Mes 3| Cuota: 1691.0564402798896 | Interés: 27.893116647431246 | Capital Pagado: 1663.1633236324583 | Saldo Final: 5031.184671751042\n",
            "Mes 4| Cuota: 1691.0564402798896 | Interés: 20.963269465629338 | Capital Pagado: 1670.0931708142602 | Saldo Final: 3361.0915009367814\n",
            "Mes 5| Cuota: 1691.0564402798896 | Interés: 14.004547920569921 | Capital Pagado: 1677.0518923593197 | Saldo Final: 1684.0396085774616\n",
            "Mes 6| Cuota: 1691.0564402798896 | Interés: 7.01683170240609 | Capital Pagado: 1684.0396085774835 | Saldo Final: -2.1827872842550278e-11\n"
          ]
        }
      ]
    },
    {
      "cell_type": "markdown",
      "source": [
        "22.Escribe un programa que determine si un número dado es un número perfecto o no"
      ],
      "metadata": {
        "id": "_0cOjMOpW8BB"
      }
    },
    {
      "cell_type": "code",
      "source": [
        "def numero_perfecto(n):# se define la funcion\n",
        "\n",
        "  suma = 0 #Esta variable se usara para acumular la suma de los divisores propios del número.\n",
        "  for i in range(1, n): #creamos un bucle esto hace que concidere los divisores propios del número.\n",
        "    if n % i == 0:# se verifica si n es divisible por I\n",
        "      suma += i #si es asi se agrega a la variable suma\n",
        "  return suma == n\n",
        "\n",
        "if __name__ == \"__main__\":#el código dentro de este bloque solo se ejecute cuando el script se ejecute directamente y no cuando se importe en otro script\n",
        "  n = int(input(\"Introduzca un número: \"))#mensaje para el valor\n",
        "  if numero_perfecto(n):#se verifica si el numero es perfecto\n",
        "    print(n, \"es un número perfecto.\")# se acepta el numero\n",
        "  else:# de lo contrario\n",
        "    print(n, \"no es un número perfecto.\")# mensaje"
      ],
      "metadata": {
        "colab": {
          "base_uri": "https://localhost:8080/"
        },
        "id": "MnFMq1NuW-Rd",
        "outputId": "870f29b3-52cc-4fb1-da05-47930afc17b4"
      },
      "execution_count": 3,
      "outputs": [
        {
          "output_type": "stream",
          "name": "stdout",
          "text": [
            "Introduzca un número: 12\n",
            "12 no es un número perfecto.\n"
          ]
        }
      ]
    },
    {
      "cell_type": "markdown",
      "source": [
        "23.Define un diccionario que almacene las tasas de interés para diferentes tipos de préstamos. Pide al usuario que ingrese un tipo de préstamo y muestra la tasa de interés correspondiente."
      ],
      "metadata": {
        "id": "gJJPmgDHXFld"
      }
    },
    {
      "cell_type": "code",
      "source": [
        "#creamos diccionario\n",
        "prestamos = {\"hipotecario\": 12.10, \"automóvil\": 12.20,\"tarjeta de crédito\": 29.29,\"educativo\": 9.0,\"libre inversion\": 24.89}\n",
        "\n",
        "tipo_prestamo = input(\"¿Qué tipo de préstamo estás considerando? \")#mensaje de entrada\n",
        "\n",
        "if tipo_prestamo in prestamos:\n",
        "  tasa_interes = prestamos[tipo_prestamo]\n",
        "  print(f\"La tasa de interés para un préstamo {tipo_prestamo} es {tasa_interes}%.\")#mesaje completo\n",
        "else:\n",
        "  print(f\"Lo siento, no tengo información sobre la tasa de interés para un préstamo {tipo_prestamo}.\")# si pide algo fuera del diccionario\n"
      ],
      "metadata": {
        "colab": {
          "base_uri": "https://localhost:8080/"
        },
        "id": "5YzJHVaRXHOB",
        "outputId": "95c4ff43-5bdc-449d-bc79-f898d136739b"
      },
      "execution_count": 59,
      "outputs": [
        {
          "output_type": "stream",
          "name": "stdout",
          "text": [
            "¿Qué tipo de préstamo estás considerando? hipotecario\n",
            "La tasa de interés para un préstamo hipotecario es 12.1%.\n"
          ]
        }
      ]
    },
    {
      "cell_type": "markdown",
      "source": [
        "24.Escribe una función calcular_media_geometrica que calcule la media geométrica de una lista de números."
      ],
      "metadata": {
        "id": "Jd1M1SIBXKtT"
      }
    },
    {
      "cell_type": "code",
      "source": [
        "def calcular_media_geometrica(lista):#definimos la funcion\n",
        "    producto = 1 # asignamos valor 1\n",
        "    for numero in lista:# iniciamos un bucle sobre la lista\n",
        "        producto *= numero#el valor actual en numero se multiplica con el valor acumulado en producto. Esto calcula el producto de todos los numeros en la lista\n",
        "    media_geometrica = producto ** (1 / len(lista))# calculamos la media geometrica\n",
        "    return media_geometrica\n",
        "\n",
        "numeros = [2, 4, 8, 16]# lista\n",
        "media_geometrica = calcular_media_geometrica(numeros)# llamamos la funcion\n",
        "print(\"La media geométrica de la lista es:\", media_geometrica)#mostramos la media geometrica de la lista"
      ],
      "metadata": {
        "colab": {
          "base_uri": "https://localhost:8080/"
        },
        "id": "7CDh9-wTXSng",
        "outputId": "04471a7f-04b1-4990-8d78-141bc4be2c49"
      },
      "execution_count": 62,
      "outputs": [
        {
          "output_type": "stream",
          "name": "stdout",
          "text": [
            "La media geométrica de la lista es: 16.493773379413362\n"
          ]
        }
      ]
    },
    {
      "cell_type": "markdown",
      "source": [
        "25.Crea una lista de números y utiliza una función para encontrar el segundo número más grande."
      ],
      "metadata": {
        "id": "Py_vnl_JXt73"
      }
    },
    {
      "cell_type": "code",
      "source": [
        "def encontrar_segundo_mas_grande(n):# definimos la funcion\n",
        "    if len(n) < 2:#colocamos la condicion si hay menos de 2 elementos en la lista\n",
        "        return None\n",
        "\n",
        "    maximo = max(n)# calculamos el numero maximo\n",
        "    n.remove(maximo)#removemos el dato\n",
        "    segundo_maximo = max(n)#calculamos el nuevo numero maximo\n",
        "    return segundo_maximo\n",
        "\n",
        "L25 = [18,5,24,20,15,39,10,63]#creamos lista\n",
        "segundo_mas_grande = encontrar_segundo_mas_grande(L25)#llamamos la funcion\n",
        "\n",
        "if segundo_mas_grande is not None:\n",
        "    print(\"El segundo número más grande es:\", segundo_mas_grande)# mostramos el segundo numero mas grande"
      ],
      "metadata": {
        "colab": {
          "base_uri": "https://localhost:8080/"
        },
        "id": "4iLiveJYXv7h",
        "outputId": "95950835-2c05-4107-c552-d12ca9b4aa44"
      },
      "execution_count": 64,
      "outputs": [
        {
          "output_type": "stream",
          "name": "stdout",
          "text": [
            "El segundo número más grande es: 39\n"
          ]
        }
      ]
    },
    {
      "cell_type": "markdown",
      "source": [
        "26.Escribe un programa que calcule e imprima los primeros  n  números de la serie de los números de Lucas a discresión del usuario."
      ],
      "metadata": {
        "id": "6waaGy4sYMU_"
      }
    },
    {
      "cell_type": "code",
      "source": [
        "def numeros_de_lucas(n):#definimos la funcion\n",
        "\n",
        "  l26 = [2, 1]#lista con los primeros numeros de lucas\n",
        "  for i in range(2, n):#se inicia un bucle\n",
        "    l26.append(l26[i - 1] + l26[i - 2])#se calcula el siguiente número de Lucas sumando los dos números anteriores en la lista l26. Luego, este número se agrega a la lista.\n",
        "  return l26\n",
        "\n",
        "if __name__ == \"__main__\":#aseguramos la ejecucion\n",
        "  n = int(input(\"¿Cuántos números de Lucas quieres imprimir? \"))# mensaje de entrada\n",
        "  lista = numeros_de_lucas(n)#llamamos la funcion\n",
        "  for nlucas in lista:# que muestre cada unno de los numeros de lucas en la lista\n",
        "    print(nlucas)#mostramos los numeros de lucas"
      ],
      "metadata": {
        "colab": {
          "base_uri": "https://localhost:8080/"
        },
        "id": "oo4J_UlrYOrp",
        "outputId": "61635d30-39ca-4cc0-ef31-89bc3242562a"
      },
      "execution_count": 65,
      "outputs": [
        {
          "output_type": "stream",
          "name": "stdout",
          "text": [
            "¿Cuántos números de Lucas quieres imprimir? 10\n",
            "2\n",
            "1\n",
            "3\n",
            "4\n",
            "7\n",
            "11\n",
            "18\n",
            "29\n",
            "47\n",
            "76\n"
          ]
        }
      ]
    },
    {
      "cell_type": "markdown",
      "source": [
        "27.Crea una función calcular_cuota_mensual que calcule la cuota mensual de un préstamo hipotecario."
      ],
      "metadata": {
        "id": "8vZCDAPgYeFp"
      }
    },
    {
      "cell_type": "code",
      "source": [
        "def calcular_cuota_mensual(monto, tasa_interes_anual, plazo):# definimos la funcion\n",
        "    tasa_interes_mensual = tasa_interes_anual / 12 / 100 #se calcula la tasa de interes y la convertimos en decimal\n",
        "    cuota_mensual = (monto* tasa_interes_mensual) / (1 - (1 + tasa_interes_mensual)**(-plazo))#calculamos la cuota\n",
        "    return cuota_mensual\n",
        "\n",
        "monto = 550000000\n",
        "tasa_interes_anual = 12.10\n",
        "plazo = 24\n",
        "\n",
        "cuota = calcular_cuota_mensual(monto, tasa_interes_anual, plazo)# llamamos la funcion creada\n",
        "print(\"La cuota mensual del préstamo hipotecario es:\", cuota)#mostramos mesaje de la cuota"
      ],
      "metadata": {
        "colab": {
          "base_uri": "https://localhost:8080/"
        },
        "id": "1tusnWvNYfhI",
        "outputId": "ca1456e0-5708-46c4-f03a-f5aa778360a2"
      },
      "execution_count": 13,
      "outputs": [
        {
          "output_type": "stream",
          "name": "stdout",
          "text": [
            "La cuota mensual del préstamo hipotecario es: 25916101.817335084\n"
          ]
        }
      ]
    },
    {
      "cell_type": "markdown",
      "source": [
        "28.Escribe una función que determine si un número es un número de Armstrong (un número de n dígitos que es igual a la suma de sus dígitos elevados a la n)."
      ],
      "metadata": {
        "id": "0i6wZ3YwYmcp"
      }
    },
    {
      "cell_type": "code",
      "source": [
        "def es_numero_armstrong(numero):# definimos funcion\n",
        "\n",
        "    n1 = str(numero)# convertimos el numero en una cadena\n",
        "    n = len(n1)#calculamos la cantidad de numeros la tomar la cadena\n",
        "    suma = 0# la usamos para acumular la suma de los digitos\n",
        "    for i in n1:#iniciamos un bucle\n",
        "        suma += int(i) ** n#convertimos el numero actual en entero\n",
        "    return numero == suma\n",
        "\n",
        "numero = int(input(\"Ingrese un número: \"))# mostramos el mesaje de entrada\n",
        "if es_numero_armstrong(numero):#Se verifica si el número ingresado es un numero de Armstrong utilizando la función\n",
        "    print(numero, \"es un número de Armstrong.\")# mostramos mensaje\n",
        "else:\n",
        "    print(numero, \"no es un número de Armstrong.\")\n"
      ],
      "metadata": {
        "colab": {
          "base_uri": "https://localhost:8080/"
        },
        "id": "UP7C-RZyYoLR",
        "outputId": "cd9ab888-5871-4d7c-ae61-1f1cc2ad7fe6"
      },
      "execution_count": 67,
      "outputs": [
        {
          "output_type": "stream",
          "name": "stdout",
          "text": [
            "Ingrese un número: 2\n",
            "2 es un número de Armstrong.\n"
          ]
        }
      ]
    },
    {
      "cell_type": "markdown",
      "source": [
        "29.Define un diccionario que almacene los símbolos de moneda y sus respectivos códigos. Escribe un programa que convierta una cantidad de dinero de una moneda a otra."
      ],
      "metadata": {
        "id": "YvhU5dUNYtSG"
      }
    },
    {
      "cell_type": "code",
      "source": [
        "monedas = {\"Dolar\",\"Peso colombiano\",\"Euro\",\"Libra esterlina\",\"Yen\"}#definimos al grupo e monedas\n",
        "\n",
        "def convertir_moneda(cantidad, moneda_inicial, moneda_final, tasa_cambio):#definimos la funcion\n",
        "    tasa_origen = tasa_cambio[moneda_inicial]# definimos la tasa de cambio para la moneda principal\n",
        "    tasa_destino = tasa_cambio[moneda_final]# definimos la tasa de cambio para la monedadestino\n",
        "    conversion = dinero * (tasa_destino / tasa_origen)# calculamos la cantidad convetida\n",
        "    return conversion\n",
        "\n",
        "tasa_cambio = {\"Dolar\":1,\"Peso colombiano\":4123,\"Euro\":0.92,\"Libra esterlina\": 0.77,\"Yen\": 117.75,}#creamos el diccionario\n",
        "\n",
        "dinero = float(input(\"Ingrese la cantidad de dinero: \"))# mensaje y usamos float para convertir el valor en decimal\n",
        "moneda_inicial = input(\"Ingrese la moneda de origen: \")#mensaje\n",
        "moneda_final = input(\"Ingrese la moneda a convertir: \")#mensaje\n",
        "\n",
        "if moneda_inicial in tasa_cambio and moneda_final in tasa_cambio:\n",
        "    cantidad_convertida = convertir_moneda(dinero, moneda_inicial, moneda_final, tasa_cambio)\n",
        "    print(f\"{dinero} {moneda_inicial} equivale a {cantidad_convertida} {moneda_final}\")# verificamos si esta en el diccionario\n",
        "else:\n",
        "    print(\"Monedas no encontradas en las tasas de cambio.\")# mesaje si no existe en el diccionario la moneda"
      ],
      "metadata": {
        "colab": {
          "base_uri": "https://localhost:8080/"
        },
        "id": "fzQoL_qQYuzZ",
        "outputId": "210f945c-8788-479b-eb60-7e5234a3d698"
      },
      "execution_count": 17,
      "outputs": [
        {
          "output_type": "stream",
          "name": "stdout",
          "text": [
            "Ingrese la cantidad de dinero: 5000\n",
            "Ingrese la moneda de origen: Dolar\n",
            "Ingrese la moneda a convertir: Yen\n",
            "5000.0 Dolar equivale a 588750.0 Yen\n"
          ]
        }
      ]
    },
    {
      "cell_type": "markdown",
      "source": [
        "30.Crea una función que calcule la desviación estándar de una lista de números."
      ],
      "metadata": {
        "id": "TCv6HU2iZP4l"
      }
    },
    {
      "cell_type": "code",
      "source": [
        "def calcular_desviacion_estandar(n):#definimos variables\n",
        "    n2 = len(n)#Se calcula la longitud de la lista n y se almacena en la variable\n",
        "    if n2 <= 1:# se verifica el largo de la lista\n",
        "        return None\n",
        "\n",
        "    suma = sum (n)#calculamos la suma de los valores de la lista\n",
        "    media = suma / n2#calculamos la media de la lista\n",
        "    suma_cuadrados = 0#guardar la suma de cuadrados\n",
        "    for numero in n:#iniciamos bucle\n",
        "        diferencia = numero - media# restamos el numero y la media\n",
        "        suma_cuadrados += diferencia ** 2# se suma el cuadrado de la diferencia al valor acumulado\n",
        "\n",
        "    desviacion_estandar = math.sqrt(suma_cuadrados / (n2 - 1))#calculamos la desviacion\n",
        "    return desviacion_estandar\n",
        "\n",
        "l30 = [21, 45, 8, 10, 29, 68, 85, 4, 37]#creamos lista\n",
        "desviacion = calcular_desviacion_estandar(l30)# usamos la funcion creada\n",
        "print(\"La desviación estándar de la lista es:\", desviacion)#mostramos el resultado\n"
      ],
      "metadata": {
        "colab": {
          "base_uri": "https://localhost:8080/"
        },
        "id": "4yAMNBOFZQZ3",
        "outputId": "5cbad5c5-975f-437d-b684-c74c662fb5fb"
      },
      "execution_count": 18,
      "outputs": [
        {
          "output_type": "stream",
          "name": "stdout",
          "text": [
            "La desviación estándar de la lista es: 27.91256188727776\n"
          ]
        }
      ]
    },
    {
      "cell_type": "code",
      "source": [],
      "metadata": {
        "id": "OseJj8-ZZSMw"
      },
      "execution_count": null,
      "outputs": []
    }
  ]
}