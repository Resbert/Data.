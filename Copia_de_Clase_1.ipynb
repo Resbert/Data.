{
  "cells": [
    {
      "cell_type": "code",
      "source": [
        "\n",
        "def division_y_suma_enteros(a, b, c=1):\n",
        "\n",
        "  if type(a) == int and type(b) == int and type(c) == int :\n",
        "    suma = a + b\n",
        "    if c != 0:\n",
        "      print(suma / c)\n",
        "    else:\n",
        "        print(\"No se puede, sigue intentando\")\n",
        "  else:\n",
        "    print(\"Que sean enteros\")"
      ],
      "metadata": {
        "id": "c-x09ewFMWAo"
      },
      "execution_count": null,
      "outputs": []
    },
    {
      "cell_type": "markdown",
      "source": [],
      "metadata": {
        "id": "1iR5AoNohyST"
      }
    },
    {
      "cell_type": "code",
      "source": [
        "division_y_suma_enteros(3, 5, 0)"
      ],
      "metadata": {
        "colab": {
          "base_uri": "https://localhost:8080/"
        },
        "id": "FcSy-KUvhyor",
        "outputId": "22fe5db0-2a65-4716-c5a3-ae1bd48f8a10"
      },
      "execution_count": null,
      "outputs": [
        {
          "output_type": "stream",
          "name": "stdout",
          "text": [
            "No se puede, sigue intentando\n"
          ]
        }
      ]
    }
  ],
  "metadata": {
    "colab": {
      "provenance": []
    },
    "kernelspec": {
      "display_name": "Python 3",
      "name": "python3"
    }
  },
  "nbformat": 4,
  "nbformat_minor": 0
}